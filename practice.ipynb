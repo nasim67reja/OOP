{
 "cells": [
  {
   "cell_type": "code",
   "execution_count": 2,
   "id": "860f0a9b",
   "metadata": {},
   "outputs": [],
   "source": [
    "class TradingBot:\n",
    "    def __init__(self, name, capital):\n",
    "        self.name = name\n",
    "        self.capital = capital\n",
    "\n",
    "    def analyze_market(self):\n",
    "        print(f\"{self.name} is analyzing the crypto market...\")\n",
    "\n",
    "    def execute_trade(self):\n",
    "        print(f\"{self.name} is executing a generic trade...\")"
   ]
  },
  {
   "cell_type": "markdown",
   "id": "618770d0",
   "metadata": {},
   "source": [
    "## Inherited class 1: Scalping bot"
   ]
  },
  {
   "cell_type": "code",
   "execution_count": 3,
   "id": "08be23f3",
   "metadata": {},
   "outputs": [],
   "source": [
    "\n",
    "\n",
    "class ScalpingBot(TradingBot):\n",
    "    def __init__(self, name, capital, timeframe=\"1m\"):\n",
    "        super().__init__(name, capital)\n",
    "        self.timeframe = timeframe\n",
    "\n",
    "    def analyze_market(self):\n",
    "        print(f\"{self.name} is analyzing short-term price movements on the {self.timeframe} chart...\")\n",
    "\n",
    "    def execute_trade(self):\n",
    "        print(f\"{self.name} is placing quick buy/sell orders for small profits.\")"
   ]
  },
  {
   "cell_type": "code",
   "execution_count": 5,
   "id": "c3b886fc",
   "metadata": {},
   "outputs": [
    {
     "name": "stdout",
     "output_type": "stream",
     "text": [
      "ScalperX is analyzing short-term price movements on the 1m chart...\n",
      "ScalperX is placing quick buy/sell orders for small profits.\n"
     ]
    }
   ],
   "source": [
    "# Using the classes\n",
    "scalper = ScalpingBot(\"ScalperX\", 1000)\n",
    "\n",
    "# Call methods\n",
    "scalper.analyze_market()\n",
    "scalper.execute_trade()"
   ]
  },
  {
   "cell_type": "markdown",
   "id": "d006816b",
   "metadata": {},
   "source": [
    "## Inherited class 2: Swing trading bot\n"
   ]
  },
  {
   "cell_type": "code",
   "execution_count": 4,
   "id": "62c89912",
   "metadata": {},
   "outputs": [],
   "source": [
    "class SwingTradingBot(TradingBot):\n",
    "    def __init__(self, name, capital, holding_days=3):\n",
    "        super().__init__(name, capital)\n",
    "        self.holding_days = holding_days\n",
    "\n",
    "    def analyze_market(self):\n",
    "        print(f\"{self.name} is analyzing daily trends and news for the next {self.holding_days} days...\")\n",
    "\n",
    "    def execute_trade(self):\n",
    "        print(f\"{self.name} is entering a position and planning to hold for {self.holding_days} days.\")"
   ]
  }
 ],
 "metadata": {
  "kernelspec": {
   "display_name": "Python 3",
   "language": "python",
   "name": "python3"
  },
  "language_info": {
   "codemirror_mode": {
    "name": "ipython",
    "version": 3
   },
   "file_extension": ".py",
   "mimetype": "text/x-python",
   "name": "python",
   "nbconvert_exporter": "python",
   "pygments_lexer": "ipython3",
   "version": "3.11.9"
  }
 },
 "nbformat": 4,
 "nbformat_minor": 5
}
